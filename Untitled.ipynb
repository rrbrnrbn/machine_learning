{
 "cells": [
  {
   "cell_type": "code",
   "execution_count": 3,
   "id": "01d67e12-7146-4abb-b1b1-aa200d70c0f1",
   "metadata": {
    "execution": {
     "iopub.execute_input": "2023-06-04T01:59:05.604465Z",
     "iopub.status.busy": "2023-06-04T01:59:05.603242Z",
     "iopub.status.idle": "2023-06-04T01:59:05.813200Z",
     "shell.execute_reply": "2023-06-04T01:59:05.812187Z",
     "shell.execute_reply.started": "2023-06-04T01:59:05.604432Z"
    },
    "scrolled": true,
    "tags": []
   },
   "outputs": [],
   "source": [
    "import numpy as np\r\n",
    "import pandas as pd"
   ]
  },
  {
   "cell_type": "code",
   "execution_count": 4,
   "id": "303818fd-b1b2-4914-9c58-fc8bf3f16e95",
   "metadata": {
    "execution": {
     "iopub.execute_input": "2023-06-04T01:59:07.996827Z",
     "iopub.status.busy": "2023-06-04T01:59:07.996082Z",
     "iopub.status.idle": "2023-06-04T01:59:09.117432Z",
     "shell.execute_reply": "2023-06-04T01:59:09.116570Z",
     "shell.execute_reply.started": "2023-06-04T01:59:07.996796Z"
    },
    "scrolled": true,
    "tags": []
   },
   "outputs": [],
   "source": [
    "df = pd.read_csv('https://archive.ics.uci.edu/ml/machine-learning-databases/iris/iris.data', header=None)"
   ]
  },
  {
   "cell_type": "code",
   "execution_count": 5,
   "id": "acb48360-20d8-46e6-a56a-7a29bcd36a3c",
   "metadata": {
    "execution": {
     "iopub.execute_input": "2023-06-04T01:59:26.832092Z",
     "iopub.status.busy": "2023-06-04T01:59:26.831544Z",
     "iopub.status.idle": "2023-06-04T01:59:26.851200Z",
     "shell.execute_reply": "2023-06-04T01:59:26.850358Z",
     "shell.execute_reply.started": "2023-06-04T01:59:26.832061Z"
    },
    "scrolled": true,
    "tags": []
   },
   "outputs": [
    {
     "data": {
      "text/html": [
       "<div>\n",
       "<style scoped>\n",
       "    .dataframe tbody tr th:only-of-type {\n",
       "        vertical-align: middle;\n",
       "    }\n",
       "\n",
       "    .dataframe tbody tr th {\n",
       "        vertical-align: top;\n",
       "    }\n",
       "\n",
       "    .dataframe thead th {\n",
       "        text-align: right;\n",
       "    }\n",
       "</style>\n",
       "<table border=\"1\" class=\"dataframe\">\n",
       "  <thead>\n",
       "    <tr style=\"text-align: right;\">\n",
       "      <th></th>\n",
       "      <th>0</th>\n",
       "      <th>1</th>\n",
       "      <th>2</th>\n",
       "      <th>3</th>\n",
       "      <th>4</th>\n",
       "    </tr>\n",
       "  </thead>\n",
       "  <tbody>\n",
       "    <tr>\n",
       "      <th>0</th>\n",
       "      <td>5.1</td>\n",
       "      <td>3.5</td>\n",
       "      <td>1.4</td>\n",
       "      <td>0.2</td>\n",
       "      <td>Iris-setosa</td>\n",
       "    </tr>\n",
       "    <tr>\n",
       "      <th>1</th>\n",
       "      <td>4.9</td>\n",
       "      <td>3.0</td>\n",
       "      <td>1.4</td>\n",
       "      <td>0.2</td>\n",
       "      <td>Iris-setosa</td>\n",
       "    </tr>\n",
       "    <tr>\n",
       "      <th>2</th>\n",
       "      <td>4.7</td>\n",
       "      <td>3.2</td>\n",
       "      <td>1.3</td>\n",
       "      <td>0.2</td>\n",
       "      <td>Iris-setosa</td>\n",
       "    </tr>\n",
       "    <tr>\n",
       "      <th>3</th>\n",
       "      <td>4.6</td>\n",
       "      <td>3.1</td>\n",
       "      <td>1.5</td>\n",
       "      <td>0.2</td>\n",
       "      <td>Iris-setosa</td>\n",
       "    </tr>\n",
       "    <tr>\n",
       "      <th>4</th>\n",
       "      <td>5.0</td>\n",
       "      <td>3.6</td>\n",
       "      <td>1.4</td>\n",
       "      <td>0.2</td>\n",
       "      <td>Iris-setosa</td>\n",
       "    </tr>\n",
       "  </tbody>\n",
       "</table>\n",
       "</div>"
      ],
      "text/plain": [
       "     0    1    2    3            4\n",
       "0  5.1  3.5  1.4  0.2  Iris-setosa\n",
       "1  4.9  3.0  1.4  0.2  Iris-setosa\n",
       "2  4.7  3.2  1.3  0.2  Iris-setosa\n",
       "3  4.6  3.1  1.5  0.2  Iris-setosa\n",
       "4  5.0  3.6  1.4  0.2  Iris-setosa"
      ]
     },
     "execution_count": 5,
     "metadata": {},
     "output_type": "execute_result"
    }
   ],
   "source": [
    "df.head()"
   ]
  },
  {
   "cell_type": "code",
   "execution_count": 20,
   "id": "063a0438-5c13-4efd-b0c9-8fc68b058c97",
   "metadata": {
    "execution": {
     "iopub.execute_input": "2023-06-04T02:30:44.866386Z",
     "iopub.status.busy": "2023-06-04T02:30:44.865773Z",
     "iopub.status.idle": "2023-06-04T02:30:44.873717Z",
     "shell.execute_reply": "2023-06-04T02:30:44.872660Z",
     "shell.execute_reply.started": "2023-06-04T02:30:44.866322Z"
    },
    "scrolled": true,
    "tags": []
   },
   "outputs": [],
   "source": [
    "%matplotlib inline\r\n",
    "import numpy as np\r\n",
    "import pandas as pd\r\n",
    "from sklearn import datasets"
   ]
  },
  {
   "cell_type": "code",
   "execution_count": 11,
   "id": "84a80d49-293d-4495-9c88-8819bb40a105",
   "metadata": {
    "execution": {
     "iopub.execute_input": "2023-06-04T02:26:36.915930Z",
     "iopub.status.busy": "2023-06-04T02:26:36.915402Z",
     "iopub.status.idle": "2023-06-04T02:26:36.922544Z",
     "shell.execute_reply": "2023-06-04T02:26:36.921764Z",
     "shell.execute_reply.started": "2023-06-04T02:26:36.915900Z"
    },
    "scrolled": true,
    "tags": []
   },
   "outputs": [],
   "source": [
    "iris = datasets.load_iris()\r\n",
    "X = iris.data[:, [2,3]]\r\n",
    "y = iris.target"
   ]
  },
  {
   "cell_type": "code",
   "execution_count": 12,
   "id": "54669762-547a-4763-b48f-3720e1b7805f",
   "metadata": {
    "execution": {
     "iopub.execute_input": "2023-06-04T02:26:38.244841Z",
     "iopub.status.busy": "2023-06-04T02:26:38.244057Z",
     "iopub.status.idle": "2023-06-04T02:26:38.257381Z",
     "shell.execute_reply": "2023-06-04T02:26:38.256275Z",
     "shell.execute_reply.started": "2023-06-04T02:26:38.244797Z"
    },
    "scrolled": true,
    "tags": []
   },
   "outputs": [
    {
     "ename": "NameError",
     "evalue": "name 'x' is not defined",
     "output_type": "error",
     "traceback": [
      "\u001b[0;31m---------------------------------------------------------------------------\u001b[0m",
      "\u001b[0;31mNameError\u001b[0m                                 Traceback (most recent call last)",
      "\u001b[0;32m/tmp/ipykernel_1227/3644660209.py\u001b[0m in \u001b[0;36m<module>\u001b[0;34m\u001b[0m\n\u001b[1;32m      1\u001b[0m \u001b[0mnp\u001b[0m\u001b[0;34m.\u001b[0m\u001b[0munique\u001b[0m\u001b[0;34m(\u001b[0m\u001b[0my\u001b[0m\u001b[0;34m)\u001b[0m\u001b[0;34m\u001b[0m\u001b[0;34m\u001b[0m\u001b[0m\n\u001b[0;32m----> 2\u001b[0;31m \u001b[0mx\u001b[0m\u001b[0;34m.\u001b[0m\u001b[0mhead\u001b[0m\u001b[0;34m(\u001b[0m\u001b[0;34m)\u001b[0m\u001b[0;34m\u001b[0m\u001b[0;34m\u001b[0m\u001b[0m\n\u001b[0m\u001b[1;32m      3\u001b[0m \u001b[0my\u001b[0m\u001b[0;34m.\u001b[0m\u001b[0mhead\u001b[0m\u001b[0;34m(\u001b[0m\u001b[0;34m)\u001b[0m\u001b[0;34m\u001b[0m\u001b[0;34m\u001b[0m\u001b[0m\n",
      "\u001b[0;31mNameError\u001b[0m: name 'x' is not defined"
     ]
    }
   ],
   "source": [
    "np.unique(y)\r\n"
   ]
  },
  {
   "cell_type": "code",
   "execution_count": 14,
   "id": "ceda3041-bc8a-4ec5-a673-fbe57bd86bbd",
   "metadata": {
    "execution": {
     "iopub.execute_input": "2023-06-04T02:27:19.682441Z",
     "iopub.status.busy": "2023-06-04T02:27:19.681510Z",
     "iopub.status.idle": "2023-06-04T02:27:19.698548Z",
     "shell.execute_reply": "2023-06-04T02:27:19.697317Z",
     "shell.execute_reply.started": "2023-06-04T02:27:19.682409Z"
    },
    "scrolled": true,
    "tags": []
   },
   "outputs": [],
   "source": [
    "\r\n",
    "from sklearn.model_selection import train_test_split\r\n",
    "X_train, X_test, y_train, y_test = train_test_split(X, y, test_size=0.3, random_state=0)"
   ]
  },
  {
   "cell_type": "code",
   "execution_count": 15,
   "id": "7861530c-1c48-480b-8412-7d305bd2c9bb",
   "metadata": {
    "execution": {
     "iopub.execute_input": "2023-06-04T02:29:16.730195Z",
     "iopub.status.busy": "2023-06-04T02:29:16.729436Z",
     "iopub.status.idle": "2023-06-04T02:29:16.735601Z",
     "shell.execute_reply": "2023-06-04T02:29:16.734845Z",
     "shell.execute_reply.started": "2023-06-04T02:29:16.730162Z"
    },
    "scrolled": true,
    "tags": []
   },
   "outputs": [],
   "source": [
    "from sklearn.preprocessing import StandardScaler\r\n",
    "\r\n",
    "sc = StandardScaler()\r\n",
    "sc.fit(X_train)\r\n",
    "X_train_std = sc.transform(X_train)\r\n",
    "X_test_std = sc.transform(X_test)"
   ]
  },
  {
   "cell_type": "code",
   "execution_count": 18,
   "id": "a75a7b72-0e40-4e33-a9e1-8a8582201436",
   "metadata": {
    "execution": {
     "iopub.execute_input": "2023-06-04T02:30:05.048766Z",
     "iopub.status.busy": "2023-06-04T02:30:05.047796Z",
     "iopub.status.idle": "2023-06-04T02:30:05.054288Z",
     "shell.execute_reply": "2023-06-04T02:30:05.053587Z",
     "shell.execute_reply.started": "2023-06-04T02:30:05.048733Z"
    },
    "scrolled": true,
    "tags": []
   },
   "outputs": [
    {
     "data": {
      "text/plain": [
       "array([-3.59500789e-16,  7.82442894e-17])"
      ]
     },
     "execution_count": 18,
     "metadata": {},
     "output_type": "execute_result"
    }
   ],
   "source": [
    "np.mean(X_train,axis=0)\r\n",
    "np.mean(X_train_std,axis=0)"
   ]
  },
  {
   "cell_type": "code",
   "execution_count": 28,
   "id": "647182c0-2dd0-47b4-a6a4-dcc6fc5c6f5c",
   "metadata": {
    "execution": {
     "iopub.execute_input": "2023-06-04T02:35:51.294073Z",
     "iopub.status.busy": "2023-06-04T02:35:51.292865Z",
     "iopub.status.idle": "2023-06-04T02:35:51.303149Z",
     "shell.execute_reply": "2023-06-04T02:35:51.302330Z",
     "shell.execute_reply.started": "2023-06-04T02:35:51.294037Z"
    },
    "scrolled": true,
    "tags": []
   },
   "outputs": [
    {
     "data": {
      "text/plain": [
       "Perceptron(alpha=0.0001, class_weight=None, early_stopping=False, eta0=0.1,\n",
       "           fit_intercept=True, max_iter=40, n_iter_no_change=5, n_jobs=None,\n",
       "           penalty=None, random_state=0, shuffle=True, tol=0.001,\n",
       "           validation_fraction=0.1, verbose=0, warm_start=False)"
      ]
     },
     "execution_count": 28,
     "metadata": {},
     "output_type": "execute_result"
    }
   ],
   "source": [
    "\r\n",
    "from sklearn.linear_model import Perceptron\r\n",
    "\r\n",
    "ppn = Perceptron(max_iter=40,eta0=0.1, random_state=0)\r\n",
    "ppn.fit(X_train_std, y_train)"
   ]
  },
  {
   "cell_type": "code",
   "execution_count": 29,
   "id": "fd3d36f2-25b0-40d6-b733-70d2899c899f",
   "metadata": {
    "execution": {
     "iopub.execute_input": "2023-06-04T02:35:53.966014Z",
     "iopub.status.busy": "2023-06-04T02:35:53.965366Z",
     "iopub.status.idle": "2023-06-04T02:35:53.971840Z",
     "shell.execute_reply": "2023-06-04T02:35:53.970866Z",
     "shell.execute_reply.started": "2023-06-04T02:35:53.965982Z"
    },
    "scrolled": true,
    "tags": []
   },
   "outputs": [
    {
     "name": "stdout",
     "output_type": "stream",
     "text": [
      "Misclassified samples: 5\r\n"
     ]
    }
   ],
   "source": [
    "\r\n",
    "y_pred = ppn.predict(X_test_std)\r\n",
    "print(\"Misclassified samples: {}\".format((y_test != y_pred).sum()))"
   ]
  },
  {
   "cell_type": "code",
   "execution_count": 30,
   "id": "ae7516d2-82cf-47cf-ae6e-b9a2cfb5c3fc",
   "metadata": {
    "execution": {
     "iopub.execute_input": "2023-06-04T02:35:55.510423Z",
     "iopub.status.busy": "2023-06-04T02:35:55.509768Z",
     "iopub.status.idle": "2023-06-04T02:35:55.516069Z",
     "shell.execute_reply": "2023-06-04T02:35:55.515111Z",
     "shell.execute_reply.started": "2023-06-04T02:35:55.510389Z"
    },
    "scrolled": true,
    "tags": []
   },
   "outputs": [
    {
     "name": "stdout",
     "output_type": "stream",
     "text": [
      "Accuracy: 0.8888888888888888\r\n"
     ]
    }
   ],
   "source": [
    "\r\n",
    "from sklearn.metrics import accuracy_score\r\n",
    "\r\n",
    "print(\"Accuracy: {}\".format(accuracy_score(y_test, y_pred)))"
   ]
  },
  {
   "cell_type": "code",
   "execution_count": 31,
   "id": "9d60ca0d-60e8-4eea-9b8e-a36c8a56d4f2",
   "metadata": {
    "execution": {
     "iopub.execute_input": "2023-06-04T02:35:57.685175Z",
     "iopub.status.busy": "2023-06-04T02:35:57.684536Z",
     "iopub.status.idle": "2023-06-04T02:35:57.695746Z",
     "shell.execute_reply": "2023-06-04T02:35:57.694908Z",
     "shell.execute_reply.started": "2023-06-04T02:35:57.685144Z"
    },
    "scrolled": true,
    "tags": []
   },
   "outputs": [],
   "source": [
    "from matplotlib.colors import ListedColormap\r\n",
    "import matplotlib.pyplot as plt\r\n",
    "\r\n",
    "def plot_decision_regions(X, y, classifier, test_idx=None, resolution=0.02):\r\n",
    "    # setup marker generator and color map\r\n",
    "    markers = ('s', 'x', 'o', '^', 'v')\r\n",
    "    colors = ('red', 'blue', 'lightgreen', 'gray', 'cyan')\r\n",
    "    cmap = ListedColormap(colors[:len(np.unique(y))])\r\n",
    "\r\n",
    "    # plot the decision surface\r\n",
    "    x1_min, x1_max = X[:, 0].min() - 1, X[:, 0].max() + 1\r\n",
    "    x2_min, x2_max = X[:, 1].min() - 1, X[:, 1].max() + 1\r\n",
    "    xx1, xx2 = np.meshgrid(np.arange(x1_min, x1_max, resolution),\r\n",
    "                            np.arange(x2_min, x2_max, resolution))\r\n",
    "    Z = classifier.predict(np.array([xx1.ravel(), xx2.ravel()]).T)\r\n",
    "    Z = Z.reshape(xx1.shape)\r\n",
    "    plt.contourf(xx1, xx2, Z, slpha=0.4, cmap=cmap)\r\n",
    "    plt.xlim(xx1.min(), xx1.max())\r\n",
    "    plt.ylim(xx2.min(), xx2.max())\r\n",
    "\r\n",
    "    # plot all samples\r\n",
    "    X_test, y_test = X[test_idx, :], y[test_idx]\r\n",
    "    for idx, cl in enumerate(np.unique(y)):\r\n",
    "        plt.scatter(x=X[y == cl, 0], y=X[y == cl, 1],\r\n",
    "                    alpha=0.8, c=cmap(idx),\r\n",
    "                    marker=markers[idx], label=cl)\r\n",
    "\r\n",
    "    # highlight test samples\r\n",
    "    if test_idx:\r\n",
    "        X_test, y_test = X[test_idx, :], y[test_idx]\r\n",
    "        plt.scatter(X_test[:, 0], X_test[:, 1], c='',\r\n",
    "                    alpha=1.0, linewidth=1, marker='o',\r\n",
    "                    s=55, label='test set')"
   ]
  },
  {
   "cell_type": "code",
   "execution_count": 32,
   "id": "1d2a3edb-a7b8-4349-97c6-a5839c1ae9f8",
   "metadata": {
    "execution": {
     "iopub.execute_input": "2023-06-04T02:36:04.351130Z",
     "iopub.status.busy": "2023-06-04T02:36:04.350537Z",
     "iopub.status.idle": "2023-06-04T02:36:04.355277Z",
     "shell.execute_reply": "2023-06-04T02:36:04.354535Z",
     "shell.execute_reply.started": "2023-06-04T02:36:04.351099Z"
    },
    "scrolled": true,
    "tags": []
   },
   "outputs": [],
   "source": [
    "\r\n",
    "X_combined_std = np.vstack((X_train_std, X_test_std))\r\n",
    "y_combined = np.hstack((y_train, y_test))"
   ]
  },
  {
   "cell_type": "code",
   "execution_count": 33,
   "id": "cdc2a14c-d799-4473-a0bc-7a15266f1a50",
   "metadata": {
    "execution": {
     "iopub.execute_input": "2023-06-04T02:36:10.312149Z",
     "iopub.status.busy": "2023-06-04T02:36:10.311494Z",
     "iopub.status.idle": "2023-06-04T02:36:10.900478Z",
     "shell.execute_reply": "2023-06-04T02:36:10.899570Z",
     "shell.execute_reply.started": "2023-06-04T02:36:10.312118Z"
    },
    "scrolled": true,
    "tags": []
   },
   "outputs": [
    {
     "name": "stderr",
     "output_type": "stream",
     "text": [
      "/opt/conda/envs/python35-paddle120-env/lib/python3.7/site-packages/matplotlib/contour.py:1004: UserWarning: The following kwargs were not used by contour: 'slpha'\r\n",
      "  s)\r\n"
     ]
    },
    {
     "data": {
      "image/png": "[encoded data removed]",
      "text/plain": [
       "<Figure size 640x480 with 1 Axes>"
      ]
     },
     "metadata": {},
     "output_type": "display_data"
    }
   ],
   "source": [
    "plot_decision_regions(X=X_combined_std,\r\n",
    "                     y=y_combined,\r\n",
    "                     classifier=ppn,\r\n",
    "                     test_idx=range(105, 150))\r\n",
    "plt.xlabel('petal length [standardized]')\r\n",
    "plt.ylabel('petal width [standardized]')\r\n",
    "plt.legend(loc='upper left')\r\n",
    "plt.show()"
   ]
  },
  {
   "cell_type": "code",
   "execution_count": 34,
   "id": "a7a011fc-e73b-4434-8446-2d0e9d19bcc9",
   "metadata": {
    "execution": {
     "iopub.execute_input": "2023-06-04T02:43:58.116279Z",
     "iopub.status.busy": "2023-06-04T02:43:58.115697Z",
     "iopub.status.idle": "2023-06-04T02:43:58.120178Z",
     "shell.execute_reply": "2023-06-04T02:43:58.119403Z",
     "shell.execute_reply.started": "2023-06-04T02:43:58.116247Z"
    },
    "scrolled": true,
    "tags": []
   },
   "outputs": [],
   "source": [
    "\r\n",
    "from sklearn.linear_model import LogisticRegression"
   ]
  },
  {
   "cell_type": "code",
   "execution_count": 35,
   "id": "cd786133-5e36-4b1f-9d7a-28bf3256794a",
   "metadata": {
    "execution": {
     "iopub.execute_input": "2023-06-04T02:44:04.381802Z",
     "iopub.status.busy": "2023-06-04T02:44:04.381226Z",
     "iopub.status.idle": "2023-06-04T02:44:04.398911Z",
     "shell.execute_reply": "2023-06-04T02:44:04.397967Z",
     "shell.execute_reply.started": "2023-06-04T02:44:04.381771Z"
    },
    "scrolled": true,
    "tags": []
   },
   "outputs": [
    {
     "data": {
      "text/plain": [
       "LogisticRegression(C=1000.0, class_weight=None, dual=False, fit_intercept=True,\n",
       "                   intercept_scaling=1, l1_ratio=None, max_iter=100,\n",
       "                   multi_class='auto', n_jobs=None, penalty='l2',\n",
       "                   random_state=0, solver='lbfgs', tol=0.0001, verbose=0,\n",
       "                   warm_start=False)"
      ]
     },
     "execution_count": 35,
     "metadata": {},
     "output_type": "execute_result"
    }
   ],
   "source": [
    "\r\n",
    "lr = LogisticRegression(C=1000., random_state=0)\r\n",
    "lr.fit(X_train_std, y_train)"
   ]
  },
  {
   "cell_type": "code",
   "execution_count": 36,
   "id": "b2352899-b262-4168-9919-000e45e10b5e",
   "metadata": {
    "execution": {
     "iopub.execute_input": "2023-06-04T02:44:09.709202Z",
     "iopub.status.busy": "2023-06-04T02:44:09.708544Z",
     "iopub.status.idle": "2023-06-04T02:44:10.116121Z",
     "shell.execute_reply": "2023-06-04T02:44:10.115127Z",
     "shell.execute_reply.started": "2023-06-04T02:44:09.709169Z"
    },
    "scrolled": true,
    "tags": []
   },
   "outputs": [
    {
     "name": "stderr",
     "output_type": "stream",
     "text": [
      "/opt/conda/envs/python35-paddle120-env/lib/python3.7/site-packages/matplotlib/contour.py:1004: UserWarning: The following kwargs were not used by contour: 'slpha'\r\n",
      "  s)\r\n"
     ]
    },
    {
     "data": {
      "image/png": "[encoded data removed]",
      "text/plain": [
       "<Figure size 640x480 with 1 Axes>"
      ]
     },
     "metadata": {},
     "output_type": "display_data"
    }
   ],
   "source": [
    "plot_decision_regions(X_combined_std, y_combined, classifier=lr, test_idx=range(105, 150))\r\n",
    "plt.xlabel('petal length [standardized]')\r\n",
    "plt.ylabel('petal width [standardized]')\r\n",
    "plt.legend(loc='upper left')\r\n",
    "plt.show()"
   ]
  },
  {
   "cell_type": "code",
   "execution_count": 38,
   "id": "381eafae-eb4c-45c4-b14c-68f3734ac79a",
   "metadata": {
    "execution": {
     "iopub.execute_input": "2023-06-04T02:44:56.349463Z",
     "iopub.status.busy": "2023-06-04T02:44:56.348807Z",
     "iopub.status.idle": "2023-06-04T02:44:56.356175Z",
     "shell.execute_reply": "2023-06-04T02:44:56.355280Z",
     "shell.execute_reply.started": "2023-06-04T02:44:56.349431Z"
    },
    "scrolled": true,
    "tags": []
   },
   "outputs": [
    {
     "data": {
      "text/plain": [
       "array([[6.51335792e-16, 4.95077314e-04, 9.99504923e-01]])"
      ]
     },
     "execution_count": 38,
     "metadata": {},
     "output_type": "execute_result"
    }
   ],
   "source": [
    "\r\n",
    "lr.predict_proba(X_test_std[0, :].reshape(1,-1))"
   ]
  },
  {
   "cell_type": "code",
   "execution_count": 39,
   "id": "5eecc82e-54a3-452b-b6a3-f46f1e8ec347",
   "metadata": {
    "execution": {
     "iopub.execute_input": "2023-06-04T02:59:32.848659Z",
     "iopub.status.busy": "2023-06-04T02:59:32.848075Z",
     "iopub.status.idle": "2023-06-04T02:59:32.869027Z",
     "shell.execute_reply": "2023-06-04T02:59:32.868123Z",
     "shell.execute_reply.started": "2023-06-04T02:59:32.848624Z"
    },
    "scrolled": true,
    "tags": []
   },
   "outputs": [],
   "source": [
    "from sklearn.tree import DecisionTreeClassifier"
   ]
  },
  {
   "cell_type": "code",
   "execution_count": 40,
   "id": "4d9b8d30-6327-4f4e-a586-86ce4404252f",
   "metadata": {
    "execution": {
     "iopub.execute_input": "2023-06-04T02:59:37.102654Z",
     "iopub.status.busy": "2023-06-04T02:59:37.102067Z",
     "iopub.status.idle": "2023-06-04T02:59:37.107050Z",
     "shell.execute_reply": "2023-06-04T02:59:37.106139Z",
     "shell.execute_reply.started": "2023-06-04T02:59:37.102620Z"
    },
    "scrolled": true,
    "tags": []
   },
   "outputs": [],
   "source": [
    "\r\n",
    "tree = DecisionTreeClassifier(criterion='entropy', max_depth=3, random_state=0)"
   ]
  },
  {
   "cell_type": "code",
   "execution_count": 41,
   "id": "22a1d73a-22b4-4e6f-8cb3-548c0d823d37",
   "metadata": {
    "execution": {
     "iopub.execute_input": "2023-06-04T02:59:42.095858Z",
     "iopub.status.busy": "2023-06-04T02:59:42.095037Z",
     "iopub.status.idle": "2023-06-04T02:59:42.103293Z",
     "shell.execute_reply": "2023-06-04T02:59:42.102403Z",
     "shell.execute_reply.started": "2023-06-04T02:59:42.095817Z"
    },
    "scrolled": true,
    "tags": []
   },
   "outputs": [
    {
     "data": {
      "text/plain": [
       "DecisionTreeClassifier(ccp_alpha=0.0, class_weight=None, criterion='entropy',\n",
       "                       max_depth=3, max_features=None, max_leaf_nodes=None,\n",
       "                       min_impurity_decrease=0.0, min_impurity_split=None,\n",
       "                       min_samples_leaf=1, min_samples_split=2,\n",
       "                       min_weight_fraction_leaf=0.0, presort='deprecated',\n",
       "                       random_state=0, splitter='best')"
      ]
     },
     "execution_count": 41,
     "metadata": {},
     "output_type": "execute_result"
    }
   ],
   "source": [
    "\r\n",
    "tree.fit(X_train, y_train) # 这里不需要标准化数据"
   ]
  },
  {
   "cell_type": "code",
   "execution_count": 42,
   "id": "8f8172c7-5a8e-40a8-81e3-51ffeeb75fc4",
   "metadata": {
    "execution": {
     "iopub.execute_input": "2023-06-04T02:59:50.074315Z",
     "iopub.status.busy": "2023-06-04T02:59:50.073646Z",
     "iopub.status.idle": "2023-06-04T02:59:50.079229Z",
     "shell.execute_reply": "2023-06-04T02:59:50.078260Z",
     "shell.execute_reply.started": "2023-06-04T02:59:50.074279Z"
    },
    "scrolled": true,
    "tags": []
   },
   "outputs": [],
   "source": [
    "\r\n",
    "X_combined = np.vstack((X_train, X_test))\r\n",
    "y_combined = np.hstack((y_train, y_test))"
   ]
  },
  {
   "cell_type": "code",
   "execution_count": 43,
   "id": "315d0942-da6f-4d51-b7d3-323d5c606a03",
   "metadata": {
    "execution": {
     "iopub.execute_input": "2023-06-04T02:59:56.336318Z",
     "iopub.status.busy": "2023-06-04T02:59:56.335666Z",
     "iopub.status.idle": "2023-06-04T02:59:56.672858Z",
     "shell.execute_reply": "2023-06-04T02:59:56.671502Z",
     "shell.execute_reply.started": "2023-06-04T02:59:56.336283Z"
    },
    "scrolled": true,
    "tags": []
   },
   "outputs": [
    {
     "name": "stderr",
     "output_type": "stream",
     "text": [
      "/opt/conda/envs/python35-paddle120-env/lib/python3.7/site-packages/matplotlib/contour.py:1004: UserWarning: The following kwargs were not used by contour: 'slpha'\r\n",
      "  s)\r\n"
     ]
    },
    {
     "data": {
      "image/png": "[encoded data removed]",
      "text/plain": [
       "<Figure size 640x480 with 1 Axes>"
      ]
     },
     "metadata": {},
     "output_type": "display_data"
    }
   ],
   "source": [
    "\r\n",
    "plot_decision_regions(X_combined, y_combined, classifier=tree, test_idx=range(105, 150))\r\n",
    "plt.xlabel('petal length [standardized]')\r\n",
    "plt.ylabel('petal width [standardized]')\r\n",
    "plt.legend(loc='upper left')\r\n",
    "plt.show()\r\n",
    "# 执行上面的代码，我们得到如下结果，决策界和坐标轴平行"
   ]
  }
 ],
 "metadata": {
  "kernelspec": {
   "display_name": "Python 3",
   "language": "python",
   "name": "py35-paddle1.2.0"
  },
  "language_info": {
   "codemirror_mode": {
    "name": "ipython",
    "version": 3
   },
   "file_extension": ".py",
   "mimetype": "text/x-python",
   "name": "python",
   "nbconvert_exporter": "python",
   "pygments_lexer": "ipython3",
   "version": "3.7.4"
  }
 },
 "nbformat": 4,
 "nbformat_minor": 5
}
